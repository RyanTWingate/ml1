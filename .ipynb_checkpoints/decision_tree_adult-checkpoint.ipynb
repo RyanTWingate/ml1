{
 "cells": [
  {
   "cell_type": "code",
   "execution_count": 1,
   "metadata": {},
   "outputs": [],
   "source": [
    "#x_train, x_test, y_train, y_test = train_test_split(x, y, \n",
    "#                                                    random_state=1,\n",
    "#                                                    test_size=.2)\n",
    "#print(x_train.shape, x_test.shape, y_train.shape, y_test.shape)"
   ]
  },
  {
   "cell_type": "code",
   "execution_count": 2,
   "metadata": {},
   "outputs": [],
   "source": [
    "#y_predict = clf.predict(x_test)"
   ]
  },
  {
   "cell_type": "code",
   "execution_count": 3,
   "metadata": {},
   "outputs": [],
   "source": [
    "#accuracy_score(y_test, y_predict)"
   ]
  },
  {
   "cell_type": "code",
   "execution_count": 4,
   "metadata": {},
   "outputs": [],
   "source": [
    "#pd.DataFrame(\n",
    "#    confusion_matrix(y_test, y_predict),\n",
    "#    columns=['Predicted <=50K', 'Predicted >50K'],\n",
    "#    index=['True <=50K', 'True >50K']\n",
    "#)"
   ]
  },
  {
   "cell_type": "code",
   "execution_count": 5,
   "metadata": {},
   "outputs": [],
   "source": [
    "#fig = plt.figure(figsize=(16,12));\n",
    "#ax = fig.add_subplot(1,1,1);\n",
    "\n",
    "#fig, ax1 = plt.subplots( nrows=1, ncols=1 )\n",
    "\n",
    "#tree.plot_tree(clf, \n",
    "#               ax=ax1, \n",
    "#               filled=True)\n",
    "#fig.savefig('tree.pdf')"
   ]
  },
  {
   "cell_type": "code",
   "execution_count": 6,
   "metadata": {},
   "outputs": [],
   "source": [
    "#tree = tree.DecisionTreeClassifier(criterion='entropy')\n",
    "#clf = clf.fit(x_train, y_train)\n",
    "#tree"
   ]
  },
  {
   "cell_type": "code",
   "execution_count": 11,
   "metadata": {},
   "outputs": [],
   "source": [
    "#e = (a[['education','education-num']]\n",
    "#     .drop_duplicates()\n",
    "#     .sort_values('education-num')\n",
    "#     .reset_index(drop=True))"
   ]
  },
  {
   "cell_type": "code",
   "execution_count": 7,
   "metadata": {},
   "outputs": [],
   "source": [
    "import pandas as pd\n",
    "import numpy as np\n",
    "import matplotlib.pyplot as plt"
   ]
  },
  {
   "cell_type": "code",
   "execution_count": 8,
   "metadata": {},
   "outputs": [],
   "source": [
    "from sklearn import tree\n",
    "from sklearn.model_selection import train_test_split\n",
    "from sklearn.model_selection import learning_curve\n",
    "from sklearn.model_selection import ShuffleSplit\n",
    "from sklearn import preprocessing"
   ]
  },
  {
   "cell_type": "code",
   "execution_count": 9,
   "metadata": {},
   "outputs": [],
   "source": [
    "from sklearn.metrics import accuracy_score\n",
    "from sklearn.metrics import confusion_matrix"
   ]
  },
  {
   "cell_type": "markdown",
   "metadata": {},
   "source": [
    "## Read Data from Adult Dataset and Clean"
   ]
  },
  {
   "cell_type": "code",
   "execution_count": 10,
   "metadata": {},
   "outputs": [],
   "source": [
    "adult_data_path = 'adult_census_data/adult.data'\n",
    "adult_test_path = 'adult_census_data/adult.test'\n",
    "cols = ['age','workclass','fnlwgt','education','education-num','marital-status',\n",
    "        'occupation','relationship','race','sex','capital-gain', 'capital-loss',\n",
    "        'hours-per-week', 'native-country','compensation']\n",
    "a = (pd.read_csv(adult_data_path,\n",
    "                 names=cols,\n",
    "                 sep=', ',\n",
    "                 engine='python')\n",
    "     .append(pd.read_csv(adult_test_path,\n",
    "                         skiprows=1,\n",
    "                         names=cols,\n",
    "                         sep=', ',\n",
    "                         engine='python'))\n",
    "     .replace({'<=50K.' : '<=50K',\n",
    "               '>50K.'  : '>50K'}))"
   ]
  },
  {
   "cell_type": "code",
   "execution_count": 12,
   "metadata": {},
   "outputs": [],
   "source": [
    "a = a[['age','workclass','education-num','occupation','race','sex','hours-per-week','compensation']].copy()\n",
    "a = (a[(a['workclass']!='?')&\n",
    "       (a['occupation']!='?')]\n",
    "     .reset_index(drop=True))"
   ]
  },
  {
   "cell_type": "markdown",
   "metadata": {},
   "source": [
    "Relabel to integers"
   ]
  },
  {
   "cell_type": "code",
   "execution_count": 13,
   "metadata": {},
   "outputs": [],
   "source": [
    "workclass_le = preprocessing.LabelEncoder()\n",
    "workclass_le = workclass_le.fit(a['workclass'])\n",
    "a['workclass'] = workclass_le.transform(a['workclass'])"
   ]
  },
  {
   "cell_type": "code",
   "execution_count": 14,
   "metadata": {},
   "outputs": [],
   "source": [
    "occupation_le = preprocessing.LabelEncoder()\n",
    "occupation_le = occupation_le.fit(a['occupation'])\n",
    "a['occupation'] = occupation_le.transform(a['occupation'])"
   ]
  },
  {
   "cell_type": "code",
   "execution_count": 15,
   "metadata": {},
   "outputs": [],
   "source": [
    "race_le = preprocessing.LabelEncoder()\n",
    "race_le = race_le.fit(a['race'])\n",
    "a['race'] = race_le.transform(a['race'])"
   ]
  },
  {
   "cell_type": "code",
   "execution_count": 16,
   "metadata": {},
   "outputs": [],
   "source": [
    "sex_le = preprocessing.LabelEncoder()\n",
    "sex_le = sex_le.fit(a['sex'])\n",
    "a['sex'] = sex_le.transform(a['sex'])"
   ]
  },
  {
   "cell_type": "code",
   "execution_count": 17,
   "metadata": {},
   "outputs": [],
   "source": [
    "compensation_le = preprocessing.LabelEncoder()\n",
    "compensation_le = compensation_le.fit(a['compensation'])\n",
    "a['compensation'] = compensation_le.transform(a['compensation'])"
   ]
  },
  {
   "cell_type": "markdown",
   "metadata": {},
   "source": [
    "## Read Data from Census Dataset and Clean"
   ]
  },
  {
   "cell_type": "code",
   "execution_count": 114,
   "metadata": {},
   "outputs": [],
   "source": [
    "education_mapping = { 'High school graduate'                     : 'High School',\n",
    "                      'Some college but no degree'               : 'High School',\n",
    "                      '10th grade'                               : 'Other',\n",
    "                      'Children'                                 : 'Other',\n",
    "                      'Bachelors degree(BA AB BS)'               : 'Bachelors',\n",
    "                      'Masters degree(MA MS MEng MEd MSW MBA)'   : 'Advanced',\n",
    "                      'Less than 1st grade'                      : 'Other',\n",
    "                      'Associates degree-academic program'       : 'Associates',\n",
    "                      '7th and 8th grade'                        : 'Other',\n",
    "                      '12th grade no diploma'                    : 'Other',\n",
    "                      'Associates degree-occup /vocational'      : 'Associates',\n",
    "                      'Prof school degree (MD DDS DVM LLB JD)'   : 'Advanced',\n",
    "                      '5th or 6th grade'                         : 'Other',\n",
    "                      '11th grade'                               : 'Other',\n",
    "                      'Doctorate degree(PhD EdD)'                : 'Advanced',\n",
    "                      '9th grade'                                : 'Other',\n",
    "                      '1st 2nd 3rd or 4th grade'                 : 'Other' }"
   ]
  },
  {
   "cell_type": "code",
   "execution_count": 120,
   "metadata": {},
   "outputs": [
    {
     "data": {
      "text/plain": [
       "Index(['age', 'education', 'industry', 'occupation', 'compensation'], dtype='object')"
      ]
     },
     "execution_count": 120,
     "metadata": {},
     "output_type": "execute_result"
    }
   ],
   "source": [
    "census_data_path = 'census_data/census-income.data'\n",
    "census_test_path = 'census_data/census-income.test'\n",
    "b = (pd.read_csv(census_data_path,\n",
    "                 names=[],\n",
    "                 sep=', ',\n",
    "                 engine='python')\n",
    "     [[0,4,8,9,41]]\n",
    "     .rename(columns={0:'age',\n",
    "                      4:'education',\n",
    "                      8:'industry',\n",
    "                      9:'occupation',\n",
    "                      41:'compensation'})\n",
    "    .replace({'- 50000.' : '<=50K',\n",
    "              '50000+.'  : '>50K'}))\n",
    "b['age'] = b['age'].astype(int)//10\n",
    "b['education'] = b['education'].replace(education_mapping)\n",
    "b['industry'] = b['industry'].replace({'Not in universe or children':'Other'})\n",
    "b['occupation'] = b['occupation'].replace({'Not in universe':'Other'})\n",
    "b.columns"
   ]
  },
  {
   "cell_type": "code",
   "execution_count": 123,
   "metadata": {},
   "outputs": [],
   "source": [
    "education_le = preprocessing.LabelEncoder()\n",
    "education_le = education_le.fit(b['education'])\n",
    "b['education'] = education_le.transform(b['education'])"
   ]
  },
  {
   "cell_type": "code",
   "execution_count": 124,
   "metadata": {},
   "outputs": [],
   "source": [
    "industry_le = preprocessing.LabelEncoder()\n",
    "industry_le = industry_le.fit(b['industry'])\n",
    "b['industry'] = industry_le.transform(b['industry'])"
   ]
  },
  {
   "cell_type": "code",
   "execution_count": 125,
   "metadata": {},
   "outputs": [],
   "source": [
    "occupation_le = preprocessing.LabelEncoder()\n",
    "occupation_le = occupation_le.fit(b['occupation'])\n",
    "b['occupation'] = occupation_le.transform(b['occupation'])"
   ]
  },
  {
   "cell_type": "code",
   "execution_count": 126,
   "metadata": {},
   "outputs": [],
   "source": [
    "compensation_le = preprocessing.LabelEncoder()\n",
    "compensation_le = compensation_le.fit(b['compensation'])\n",
    "b['compensation'] = compensation_le.transform(b['compensation'])"
   ]
  },
  {
   "cell_type": "markdown",
   "metadata": {},
   "source": [
    "#### Split into X, Y"
   ]
  },
  {
   "cell_type": "code",
   "execution_count": 128,
   "metadata": {},
   "outputs": [],
   "source": [
    "def subset_data(which='b', size=None):\n",
    "    dataset = b.copy()\n",
    "    if which != 'b':\n",
    "        dataset = a.copy()\n",
    "    if size is None:\n",
    "        return dataset.drop(columns=['compensation']), dataset[['compensation']]\n",
    "    else:\n",
    "        return dataset[:size].drop(columns=['compensation']), dataset[:size][['compensation']]"
   ]
  },
  {
   "cell_type": "code",
   "execution_count": 19,
   "metadata": {},
   "outputs": [],
   "source": [
    "def plot_learning_curve(estimator, title, X, y, cv, ylim=None, train_sizes=None):\n",
    "    plt.figure(figsize=[16,9])\n",
    "    plt.title(title)\n",
    "    if ylim is not None:\n",
    "        plt.ylim(*ylim)\n",
    "    plt.xlabel('Training Examples')\n",
    "    plt.ylabel('Score')\n",
    "        \n",
    "    train_sizes, train_scores, test_scores = learning_curve(\n",
    "        estimator, X, y, cv=cv, n_jobs=-1, train_sizes=train_sizes)\n",
    "        \n",
    "    train_scores_mean = np.mean(train_scores, axis=1)\n",
    "    train_scores_std = np.std(train_scores, axis=1)\n",
    "    test_scores_mean = np.mean(test_scores, axis=1)\n",
    "    test_scores_std = np.std(test_scores, axis=1)\n",
    "    plt.grid()\n",
    "\n",
    "    plt.fill_between(train_sizes, train_scores_mean - train_scores_std,\n",
    "                     train_scores_mean + train_scores_std, alpha=0.1,\n",
    "                     color=\"r\")\n",
    "    plt.fill_between(train_sizes, test_scores_mean - test_scores_std,\n",
    "                     test_scores_mean + test_scores_std, alpha=0.1, color=\"g\")\n",
    "    plt.plot(train_sizes, train_scores_mean, 'o-', color=\"r\",\n",
    "             label=\"Training score\")\n",
    "    plt.plot(train_sizes, test_scores_mean, 'o-', color=\"g\",\n",
    "             label=\"Cross-validation score\")\n",
    "\n",
    "    plt.legend(loc=\"best\")\n",
    "    return plt"
   ]
  },
  {
   "cell_type": "code",
   "execution_count": 137,
   "metadata": {},
   "outputs": [
    {
     "data": {
      "text/plain": [
       "<module 'matplotlib.pyplot' from '/anaconda3/envs/ml1/lib/python3.7/site-packages/matplotlib/pyplot.py'>"
      ]
     },
     "execution_count": 137,
     "metadata": {},
     "output_type": "execute_result"
    },
    {
     "data": {
      "image/png": "[encoded data removed]",
      "text/plain": [
       "<Figure size 1152x648 with 1 Axes>"
      ]
     },
     "metadata": {
      "needs_background": "light"
     },
     "output_type": "display_data"
    }
   ],
   "source": [
    "estimator = tree.DecisionTreeClassifier(criterion='entropy',\n",
    "                                        max_depth=1)\n",
    "title = \"Learning Curve\"\n",
    "X, y = subset_data('b')\n",
    "\n",
    "cv = ShuffleSplit(n_splits=10, \n",
    "                  test_size=0.2, \n",
    "                  random_state=None)\n",
    "ylim=(0.7, 1.0)\n",
    "train_sizes = np.linspace(0.1, 1.0, 10)\n",
    "plot_learning_curve(estimator, title, X, y, cv=cv, ylim=ylim, train_sizes=train_sizes)"
   ]
  },
  {
   "cell_type": "code",
   "execution_count": 51,
   "metadata": {},
   "outputs": [
    {
     "data": {
      "text/plain": [
       "DecisionTreeClassifier(class_weight=None, criterion='entropy', max_depth=8,\n",
       "                       max_features=None, max_leaf_nodes=None,\n",
       "                       min_impurity_decrease=0.0, min_impurity_split=None,\n",
       "                       min_samples_leaf=1, min_samples_split=2,\n",
       "                       min_weight_fraction_leaf=0.0, presort=False,\n",
       "                       random_state=None, splitter='best')"
      ]
     },
     "execution_count": 51,
     "metadata": {},
     "output_type": "execute_result"
    }
   ],
   "source": [
    "estimator"
   ]
  },
  {
   "cell_type": "code",
   "execution_count": 77,
   "metadata": {},
   "outputs": [
    {
     "name": "stdout",
     "output_type": "stream",
     "text": [
      "TRAIN: [ 6374 27430  1072 ... 37723  2473  5200] TEST: [ 5791 32608   148 ...  6306 30854 13711]\n",
      "TRAIN: [25681 30667 19684 ...   732 31142 28492] TEST: [20342 33516 39956 ... 12444 16625 28801]\n",
      "TRAIN: [29223 16028  3599 ...  8494 14963 21586] TEST: [10500  3632 21732 ... 25997 21717 14703]\n",
      "TRAIN: [33725  6926 33582 ... 37450 24663 27762] TEST: [36857   757 16142 ...  8927 37471 15050]\n",
      "TRAIN: [32602  9087  9787 ...  4363 36025  2232] TEST: [22072  7566 28638 ... 25972 23452 15010]\n",
      "TRAIN: [ 4538 28490  4697 ... 17184  1993 34694] TEST: [35393 31128 32431 ... 34698 38785  4112]\n",
      "TRAIN: [17666  9859  5410 ...  2274 23690 26382] TEST: [24651 13700 19864 ... 24900  2536  3939]\n",
      "TRAIN: [25895 24440 39553 ...  9365 35903 39935] TEST: [12787 35771  8686 ... 34425  8911 11464]\n",
      "TRAIN: [39061  5439 19632 ... 39612  1028 38204] TEST: [ 3945  5709  8723 ... 34095 16264 24988]\n",
      "TRAIN: [24854  5604 12756 ...   860 21713 25482] TEST: [38943 35514  6105 ...  3569  5408  2853]\n"
     ]
    }
   ],
   "source": [
    "cv = ShuffleSplit(n_splits=10, \n",
    "                  test_size=0.2, \n",
    "                  random_state=None)\n",
    "for train_index, test_index in cv.split(X):\n",
    "    print(\"TRAIN:\", train_index, \"TEST:\", test_index)"
   ]
  },
  {
   "cell_type": "code",
   "execution_count": null,
   "metadata": {},
   "outputs": [],
   "source": []
  }
 ],
 "metadata": {
  "kernelspec": {
   "display_name": "Python 3",
   "language": "python",
   "name": "python3"
  },
  "language_info": {
   "codemirror_mode": {
    "name": "ipython",
    "version": 3
   },
   "file_extension": ".py",
   "mimetype": "text/x-python",
   "name": "python",
   "nbconvert_exporter": "python",
   "pygments_lexer": "ipython3",
   "version": "3.7.4"
  }
 },
 "nbformat": 4,
 "nbformat_minor": 2
}
