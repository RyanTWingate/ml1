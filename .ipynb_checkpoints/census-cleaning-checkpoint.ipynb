{
 "cells": [
  {
   "cell_type": "code",
   "execution_count": 3,
   "metadata": {},
   "outputs": [],
   "source": [
    "import pandas as pd\n",
    "import numpy as np\n",
    "import matplotlib.pyplot as plt\n",
    "%matplotlib inline"
   ]
  },
  {
   "cell_type": "code",
   "execution_count": 4,
   "metadata": {},
   "outputs": [],
   "source": [
    "from sklearn import tree\n",
    "from sklearn.model_selection import train_test_split\n",
    "from sklearn.model_selection import learning_curve\n",
    "from sklearn.model_selection import ShuffleSplit\n",
    "from sklearn import preprocessing"
   ]
  },
  {
   "cell_type": "code",
   "execution_count": 5,
   "metadata": {},
   "outputs": [],
   "source": [
    "from sklearn.metrics import accuracy_score\n",
    "from sklearn.metrics import confusion_matrix"
   ]
  },
  {
   "cell_type": "markdown",
   "metadata": {},
   "source": [
    "## Read Data from Census Dataset and Clean"
   ]
  },
  {
   "cell_type": "code",
   "execution_count": 17,
   "metadata": {},
   "outputs": [],
   "source": [
    "education_mapping = { 'High school graduate'                     : 'High School',\n",
    "                      'Some college but no degree'               : 'High School',\n",
    "                      '10th grade'                               : 'Other',\n",
    "                      'Children'                                 : 'Other',\n",
    "                      'Bachelors degree(BA AB BS)'               : 'Bachelors',\n",
    "                      'Masters degree(MA MS MEng MEd MSW MBA)'   : 'Advanced',\n",
    "                      'Less than 1st grade'                      : 'Other',\n",
    "                      'Associates degree-academic program'       : 'Associates',\n",
    "                      '7th and 8th grade'                        : 'Other',\n",
    "                      '12th grade no diploma'                    : 'Other',\n",
    "                      'Associates degree-occup /vocational'      : 'Associates',\n",
    "                      'Prof school degree (MD DDS DVM LLB JD)'   : 'Advanced',\n",
    "                      '5th or 6th grade'                         : 'Other',\n",
    "                      '11th grade'                               : 'Other',\n",
    "                      'Doctorate degree(PhD EdD)'                : 'Advanced',\n",
    "                      '9th grade'                                : 'Other',\n",
    "                      '1st 2nd 3rd or 4th grade'                 : 'Other' }"
   ]
  },
  {
   "cell_type": "code",
   "execution_count": 18,
   "metadata": {},
   "outputs": [
    {
     "data": {
      "text/plain": [
       "Index(['age', 'education', 'industry', 'occupation', 'compensation'], dtype='object')"
      ]
     },
     "execution_count": 18,
     "metadata": {},
     "output_type": "execute_result"
    }
   ],
   "source": [
    "census_data_path = 'census_data/census-income.data'\n",
    "census_test_path = 'census_data/census-income.test'\n",
    "b = (pd.read_csv(census_data_path,\n",
    "                 names=[],\n",
    "                 sep=', ',\n",
    "                 engine='python')\n",
    "     [[0,4,8,9,41]]\n",
    "     .rename(columns={0:'age',\n",
    "                      4:'education',\n",
    "                      8:'industry',\n",
    "                      9:'occupation',\n",
    "                      41:'compensation'})\n",
    "    .replace({'- 50000.' : '<=50K',\n",
    "              '50000+.'  : '>50K'}))\n",
    "b['age'] = b['age'].astype(int)//10\n",
    "b['education'] = b['education'].replace(education_mapping)\n",
    "b['industry'] = b['industry'].replace({'Not in universe or children':'Other'})\n",
    "b['occupation'] = b['occupation'].replace({'Not in universe':'Other'})\n",
    "b.columns"
   ]
  },
  {
   "cell_type": "code",
   "execution_count": 19,
   "metadata": {},
   "outputs": [],
   "source": [
    "education_le = preprocessing.LabelEncoder()\n",
    "education_le = education_le.fit(b['education'])\n",
    "b['education'] = education_le.transform(b['education'])"
   ]
  },
  {
   "cell_type": "code",
   "execution_count": 20,
   "metadata": {},
   "outputs": [],
   "source": [
    "industry_le = preprocessing.LabelEncoder()\n",
    "industry_le = industry_le.fit(b['industry'])\n",
    "b['industry'] = industry_le.transform(b['industry'])"
   ]
  },
  {
   "cell_type": "code",
   "execution_count": 21,
   "metadata": {},
   "outputs": [],
   "source": [
    "occupation_le = preprocessing.LabelEncoder()\n",
    "occupation_le = occupation_le.fit(b['occupation'])\n",
    "b['occupation'] = occupation_le.transform(b['occupation'])"
   ]
  },
  {
   "cell_type": "code",
   "execution_count": 22,
   "metadata": {},
   "outputs": [],
   "source": [
    "compensation_le = preprocessing.LabelEncoder()\n",
    "compensation_le = compensation_le.fit(b['compensation'])\n",
    "b['compensation'] = compensation_le.transform(b['compensation'])"
   ]
  },
  {
   "cell_type": "code",
   "execution_count": null,
   "metadata": {},
   "outputs": [],
   "source": []
  }
 ],
 "metadata": {
  "kernelspec": {
   "display_name": "Python 3",
   "language": "python",
   "name": "python3"
  },
  "language_info": {
   "codemirror_mode": {
    "name": "ipython",
    "version": 3
   },
   "file_extension": ".py",
   "mimetype": "text/x-python",
   "name": "python",
   "nbconvert_exporter": "python",
   "pygments_lexer": "ipython3",
   "version": "3.7.4"
  }
 },
 "nbformat": 4,
 "nbformat_minor": 2
}
