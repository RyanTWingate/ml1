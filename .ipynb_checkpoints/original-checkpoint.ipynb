{
 "cells": [
  {
   "cell_type": "code",
   "execution_count": 2,
   "metadata": {},
   "outputs": [],
   "source": [
    "import pandas as pd\n",
    "import numpy as np\n",
    "import matplotlib.pyplot as plt\n",
    "%matplotlib inline"
   ]
  },
  {
   "cell_type": "code",
   "execution_count": 3,
   "metadata": {},
   "outputs": [],
   "source": [
    "from sklearn import tree\n",
    "from sklearn.model_selection import train_test_split\n",
    "from sklearn.model_selection import learning_curve\n",
    "from sklearn.model_selection import ShuffleSplit\n",
    "from sklearn import preprocessing"
   ]
  },
  {
   "cell_type": "code",
   "execution_count": 4,
   "metadata": {},
   "outputs": [],
   "source": [
    "from sklearn.metrics import accuracy_score\n",
    "from sklearn.metrics import confusion_matrix"
   ]
  },
  {
   "cell_type": "markdown",
   "metadata": {},
   "source": [
    "## Read Data from Adult Dataset and Clean"
   ]
  },
  {
   "cell_type": "code",
   "execution_count": 27,
   "metadata": {},
   "outputs": [],
   "source": [
    "adult_data_path = 'raw_adult/adult.data'\n",
    "adult_test_path = 'raw_adult/adult.test'\n",
    "cols = ['age','workclass','fnlwgt','education','education-num','marital-status',\n",
    "        'occupation','relationship','race','sex','capital-gain', 'capital-loss',\n",
    "        'hours-per-week', 'native-country','compensation']\n",
    "a = (pd.read_csv(adult_data_path,\n",
    "                 names=cols,\n",
    "                 sep=', ',\n",
    "                 engine='python')\n",
    "     .append(pd.read_csv(adult_test_path,\n",
    "                         skiprows=1,\n",
    "                         names=cols,\n",
    "                         sep=', ',\n",
    "                         engine='python'))\n",
    "     .replace({'<=50K.' : '<=50K',\n",
    "               '>50K.'  : '>50K'}))"
   ]
  },
  {
   "cell_type": "code",
   "execution_count": 28,
   "metadata": {},
   "outputs": [
    {
     "data": {
      "text/html": [
       "<div>\n",
       "<style scoped>\n",
       "    .dataframe tbody tr th:only-of-type {\n",
       "        vertical-align: middle;\n",
       "    }\n",
       "\n",
       "    .dataframe tbody tr th {\n",
       "        vertical-align: top;\n",
       "    }\n",
       "\n",
       "    .dataframe thead th {\n",
       "        text-align: right;\n",
       "    }\n",
       "</style>\n",
       "<table border=\"1\" class=\"dataframe\">\n",
       "  <thead>\n",
       "    <tr style=\"text-align: right;\">\n",
       "      <th></th>\n",
       "      <th>education</th>\n",
       "      <th>education-num</th>\n",
       "    </tr>\n",
       "  </thead>\n",
       "  <tbody>\n",
       "    <tr>\n",
       "      <td>224</td>\n",
       "      <td>Preschool</td>\n",
       "      <td>1</td>\n",
       "    </tr>\n",
       "    <tr>\n",
       "      <td>160</td>\n",
       "      <td>1st-4th</td>\n",
       "      <td>2</td>\n",
       "    </tr>\n",
       "    <tr>\n",
       "      <td>56</td>\n",
       "      <td>5th-6th</td>\n",
       "      <td>3</td>\n",
       "    </tr>\n",
       "    <tr>\n",
       "      <td>15</td>\n",
       "      <td>7th-8th</td>\n",
       "      <td>4</td>\n",
       "    </tr>\n",
       "    <tr>\n",
       "      <td>6</td>\n",
       "      <td>9th</td>\n",
       "      <td>5</td>\n",
       "    </tr>\n",
       "    <tr>\n",
       "      <td>77</td>\n",
       "      <td>10th</td>\n",
       "      <td>6</td>\n",
       "    </tr>\n",
       "    <tr>\n",
       "      <td>3</td>\n",
       "      <td>11th</td>\n",
       "      <td>7</td>\n",
       "    </tr>\n",
       "    <tr>\n",
       "      <td>415</td>\n",
       "      <td>12th</td>\n",
       "      <td>8</td>\n",
       "    </tr>\n",
       "    <tr>\n",
       "      <td>2</td>\n",
       "      <td>HS-grad</td>\n",
       "      <td>9</td>\n",
       "    </tr>\n",
       "    <tr>\n",
       "      <td>10</td>\n",
       "      <td>Some-college</td>\n",
       "      <td>10</td>\n",
       "    </tr>\n",
       "    <tr>\n",
       "      <td>14</td>\n",
       "      <td>Assoc-voc</td>\n",
       "      <td>11</td>\n",
       "    </tr>\n",
       "    <tr>\n",
       "      <td>13</td>\n",
       "      <td>Assoc-acdm</td>\n",
       "      <td>12</td>\n",
       "    </tr>\n",
       "    <tr>\n",
       "      <td>0</td>\n",
       "      <td>Bachelors</td>\n",
       "      <td>13</td>\n",
       "    </tr>\n",
       "    <tr>\n",
       "      <td>5</td>\n",
       "      <td>Masters</td>\n",
       "      <td>14</td>\n",
       "    </tr>\n",
       "    <tr>\n",
       "      <td>52</td>\n",
       "      <td>Prof-school</td>\n",
       "      <td>15</td>\n",
       "    </tr>\n",
       "    <tr>\n",
       "      <td>20</td>\n",
       "      <td>Doctorate</td>\n",
       "      <td>16</td>\n",
       "    </tr>\n",
       "  </tbody>\n",
       "</table>\n",
       "</div>"
      ],
      "text/plain": [
       "        education  education-num\n",
       "224     Preschool              1\n",
       "160       1st-4th              2\n",
       "56        5th-6th              3\n",
       "15        7th-8th              4\n",
       "6             9th              5\n",
       "77           10th              6\n",
       "3            11th              7\n",
       "415          12th              8\n",
       "2         HS-grad              9\n",
       "10   Some-college             10\n",
       "14      Assoc-voc             11\n",
       "13     Assoc-acdm             12\n",
       "0       Bachelors             13\n",
       "5         Masters             14\n",
       "52    Prof-school             15\n",
       "20      Doctorate             16"
      ]
     },
     "execution_count": 28,
     "metadata": {},
     "output_type": "execute_result"
    }
   ],
   "source": [
    "(a[['education','education-num']]\n",
    " .drop_duplicates()\n",
    " .sort_values('education-num'))"
   ]
  },
  {
   "cell_type": "code",
   "execution_count": 30,
   "metadata": {},
   "outputs": [],
   "source": [
    "a = a[['age',\n",
    "       'workclass',\n",
    "       'education-num',\n",
    "       'occupation',\n",
    "       'race',\n",
    "       'sex',\n",
    "       'hours-per-week',\n",
    "       'compensation']].copy()\n",
    "a = (a[(a['workclass']!='?')&\n",
    "       (a['occupation']!='?')]\n",
    "     .reset_index(drop=True))"
   ]
  },
  {
   "cell_type": "code",
   "execution_count": null,
   "metadata": {},
   "outputs": [],
   "source": [
    "print(a)"
   ]
  },
  {
   "cell_type": "code",
   "execution_count": 19,
   "metadata": {},
   "outputs": [
    {
     "data": {
      "text/plain": [
       "<=50K    34611\n",
       ">50K     11422\n",
       "Name: compensation, dtype: int64"
      ]
     },
     "execution_count": 19,
     "metadata": {},
     "output_type": "execute_result"
    }
   ],
   "source": [
    "a['compensation'].value_counts()"
   ]
  },
  {
   "cell_type": "markdown",
   "metadata": {},
   "source": [
    "Relabel categorical labels to integers"
   ]
  },
  {
   "cell_type": "code",
   "execution_count": 20,
   "metadata": {},
   "outputs": [],
   "source": [
    "a['workclass raw'] = a['workclass']\n",
    "a['occupation raw'] = a['occupation']\n",
    "a['race raw'] = a['race']\n",
    "a['sex raw'] = a['sex']\n",
    "a['compensation raw'] = a['compensation']"
   ]
  },
  {
   "cell_type": "code",
   "execution_count": 21,
   "metadata": {},
   "outputs": [],
   "source": [
    "workclass_le = preprocessing.LabelEncoder()\n",
    "workclass_le = workclass_le.fit(a['workclass raw'])\n",
    "a['workclass'] = workclass_le.transform(a['workclass'])"
   ]
  },
  {
   "cell_type": "code",
   "execution_count": 22,
   "metadata": {},
   "outputs": [],
   "source": [
    "occupation_le = preprocessing.LabelEncoder()\n",
    "occupation_le = occupation_le.fit(a['occupation raw'])\n",
    "a['occupation'] = occupation_le.transform(a['occupation'])"
   ]
  },
  {
   "cell_type": "code",
   "execution_count": 23,
   "metadata": {},
   "outputs": [],
   "source": [
    "race_le = preprocessing.LabelEncoder()\n",
    "race_le = race_le.fit(a['race raw'])\n",
    "a['race'] = race_le.transform(a['race'])"
   ]
  },
  {
   "cell_type": "code",
   "execution_count": 24,
   "metadata": {},
   "outputs": [],
   "source": [
    "sex_le = preprocessing.LabelEncoder()\n",
    "sex_le = sex_le.fit(a['sex raw'])\n",
    "a['sex'] = sex_le.transform(a['sex'])"
   ]
  },
  {
   "cell_type": "code",
   "execution_count": 25,
   "metadata": {},
   "outputs": [],
   "source": [
    "compensation_le = preprocessing.LabelEncoder()\n",
    "compensation_le = compensation_le.fit(a['compensation raw'])\n",
    "a['compensation'] = compensation_le.transform(a['compensation'])"
   ]
  },
  {
   "cell_type": "markdown",
   "metadata": {},
   "source": [
    "Create lookup tables for later reference"
   ]
  },
  {
   "cell_type": "code",
   "execution_count": 26,
   "metadata": {},
   "outputs": [
    {
     "data": {
      "text/html": [
       "<div>\n",
       "<style scoped>\n",
       "    .dataframe tbody tr th:only-of-type {\n",
       "        vertical-align: middle;\n",
       "    }\n",
       "\n",
       "    .dataframe tbody tr th {\n",
       "        vertical-align: top;\n",
       "    }\n",
       "\n",
       "    .dataframe thead th {\n",
       "        text-align: right;\n",
       "    }\n",
       "</style>\n",
       "<table border=\"1\" class=\"dataframe\">\n",
       "  <thead>\n",
       "    <tr style=\"text-align: right;\">\n",
       "      <th></th>\n",
       "      <th>workclass raw</th>\n",
       "      <th>workclass</th>\n",
       "    </tr>\n",
       "  </thead>\n",
       "  <tbody>\n",
       "    <tr>\n",
       "      <td>22</td>\n",
       "      <td>Federal-gov</td>\n",
       "      <td>0</td>\n",
       "    </tr>\n",
       "    <tr>\n",
       "      <td>25</td>\n",
       "      <td>Local-gov</td>\n",
       "      <td>1</td>\n",
       "    </tr>\n",
       "    <tr>\n",
       "      <td>2</td>\n",
       "      <td>Private</td>\n",
       "      <td>2</td>\n",
       "    </tr>\n",
       "    <tr>\n",
       "      <td>53</td>\n",
       "      <td>Self-emp-inc</td>\n",
       "      <td>3</td>\n",
       "    </tr>\n",
       "    <tr>\n",
       "      <td>1</td>\n",
       "      <td>Self-emp-not-inc</td>\n",
       "      <td>4</td>\n",
       "    </tr>\n",
       "    <tr>\n",
       "      <td>0</td>\n",
       "      <td>State-gov</td>\n",
       "      <td>5</td>\n",
       "    </tr>\n",
       "    <tr>\n",
       "      <td>1782</td>\n",
       "      <td>Without-pay</td>\n",
       "      <td>6</td>\n",
       "    </tr>\n",
       "  </tbody>\n",
       "</table>\n",
       "</div>"
      ],
      "text/plain": [
       "         workclass raw  workclass\n",
       "22         Federal-gov          0\n",
       "25           Local-gov          1\n",
       "2              Private          2\n",
       "53        Self-emp-inc          3\n",
       "1     Self-emp-not-inc          4\n",
       "0            State-gov          5\n",
       "1782       Without-pay          6"
      ]
     },
     "execution_count": 26,
     "metadata": {},
     "output_type": "execute_result"
    }
   ],
   "source": [
    "(a[['workclass raw','workclass']]\n",
    " .drop_duplicates()\n",
    " .sort_values('workclass'))"
   ]
  },
  {
   "cell_type": "markdown",
   "metadata": {},
   "source": [
    "Subset the feature space"
   ]
  },
  {
   "cell_type": "code",
   "execution_count": 16,
   "metadata": {},
   "outputs": [],
   "source": [
    "a = a[['age',\n",
    "#       'workclass',\n",
    "       'education-num',\n",
    "#       'occupation',\n",
    "#       'race',\n",
    "#       'sex',\n",
    "       'hours-per-week',\n",
    "       'compensation']].copy()"
   ]
  },
  {
   "cell_type": "code",
   "execution_count": 17,
   "metadata": {},
   "outputs": [
    {
     "data": {
      "text/html": [
       "<div>\n",
       "<style scoped>\n",
       "    .dataframe tbody tr th:only-of-type {\n",
       "        vertical-align: middle;\n",
       "    }\n",
       "\n",
       "    .dataframe tbody tr th {\n",
       "        vertical-align: top;\n",
       "    }\n",
       "\n",
       "    .dataframe thead th {\n",
       "        text-align: right;\n",
       "    }\n",
       "</style>\n",
       "<table border=\"1\" class=\"dataframe\">\n",
       "  <thead>\n",
       "    <tr style=\"text-align: right;\">\n",
       "      <th></th>\n",
       "      <th>age</th>\n",
       "      <th>education-num</th>\n",
       "      <th>hours-per-week</th>\n",
       "      <th>compensation</th>\n",
       "    </tr>\n",
       "  </thead>\n",
       "  <tbody>\n",
       "    <tr>\n",
       "      <td>0</td>\n",
       "      <td>39</td>\n",
       "      <td>13</td>\n",
       "      <td>40</td>\n",
       "      <td>0</td>\n",
       "    </tr>\n",
       "    <tr>\n",
       "      <td>1</td>\n",
       "      <td>50</td>\n",
       "      <td>13</td>\n",
       "      <td>13</td>\n",
       "      <td>0</td>\n",
       "    </tr>\n",
       "    <tr>\n",
       "      <td>2</td>\n",
       "      <td>38</td>\n",
       "      <td>9</td>\n",
       "      <td>40</td>\n",
       "      <td>0</td>\n",
       "    </tr>\n",
       "    <tr>\n",
       "      <td>3</td>\n",
       "      <td>53</td>\n",
       "      <td>7</td>\n",
       "      <td>40</td>\n",
       "      <td>0</td>\n",
       "    </tr>\n",
       "    <tr>\n",
       "      <td>4</td>\n",
       "      <td>28</td>\n",
       "      <td>13</td>\n",
       "      <td>40</td>\n",
       "      <td>0</td>\n",
       "    </tr>\n",
       "  </tbody>\n",
       "</table>\n",
       "</div>"
      ],
      "text/plain": [
       "   age  education-num  hours-per-week  compensation\n",
       "0   39             13              40             0\n",
       "1   50             13              13             0\n",
       "2   38              9              40             0\n",
       "3   53              7              40             0\n",
       "4   28             13              40             0"
      ]
     },
     "execution_count": 17,
     "metadata": {},
     "output_type": "execute_result"
    }
   ],
   "source": [
    "a.head()"
   ]
  },
  {
   "cell_type": "markdown",
   "metadata": {},
   "source": [
    "## Read Data from Census Dataset and Clean"
   ]
  },
  {
   "cell_type": "code",
   "execution_count": 17,
   "metadata": {},
   "outputs": [],
   "source": [
    "education_mapping = { 'High school graduate'                     : 'High School',\n",
    "                      'Some college but no degree'               : 'High School',\n",
    "                      '10th grade'                               : 'Other',\n",
    "                      'Children'                                 : 'Other',\n",
    "                      'Bachelors degree(BA AB BS)'               : 'Bachelors',\n",
    "                      'Masters degree(MA MS MEng MEd MSW MBA)'   : 'Advanced',\n",
    "                      'Less than 1st grade'                      : 'Other',\n",
    "                      'Associates degree-academic program'       : 'Associates',\n",
    "                      '7th and 8th grade'                        : 'Other',\n",
    "                      '12th grade no diploma'                    : 'Other',\n",
    "                      'Associates degree-occup /vocational'      : 'Associates',\n",
    "                      'Prof school degree (MD DDS DVM LLB JD)'   : 'Advanced',\n",
    "                      '5th or 6th grade'                         : 'Other',\n",
    "                      '11th grade'                               : 'Other',\n",
    "                      'Doctorate degree(PhD EdD)'                : 'Advanced',\n",
    "                      '9th grade'                                : 'Other',\n",
    "                      '1st 2nd 3rd or 4th grade'                 : 'Other' }"
   ]
  },
  {
   "cell_type": "code",
   "execution_count": 18,
   "metadata": {},
   "outputs": [
    {
     "data": {
      "text/plain": [
       "Index(['age', 'education', 'industry', 'occupation', 'compensation'], dtype='object')"
      ]
     },
     "execution_count": 18,
     "metadata": {},
     "output_type": "execute_result"
    }
   ],
   "source": [
    "census_data_path = 'census_data/census-income.data'\n",
    "census_test_path = 'census_data/census-income.test'\n",
    "b = (pd.read_csv(census_data_path,\n",
    "                 names=[],\n",
    "                 sep=', ',\n",
    "                 engine='python')\n",
    "     [[0,4,8,9,41]]\n",
    "     .rename(columns={0:'age',\n",
    "                      4:'education',\n",
    "                      8:'industry',\n",
    "                      9:'occupation',\n",
    "                      41:'compensation'})\n",
    "    .replace({'- 50000.' : '<=50K',\n",
    "              '50000+.'  : '>50K'}))\n",
    "b['age'] = b['age'].astype(int)//10\n",
    "b['education'] = b['education'].replace(education_mapping)\n",
    "b['industry'] = b['industry'].replace({'Not in universe or children':'Other'})\n",
    "b['occupation'] = b['occupation'].replace({'Not in universe':'Other'})\n",
    "b.columns"
   ]
  },
  {
   "cell_type": "code",
   "execution_count": 19,
   "metadata": {},
   "outputs": [],
   "source": [
    "education_le = preprocessing.LabelEncoder()\n",
    "education_le = education_le.fit(b['education'])\n",
    "b['education'] = education_le.transform(b['education'])"
   ]
  },
  {
   "cell_type": "code",
   "execution_count": 20,
   "metadata": {},
   "outputs": [],
   "source": [
    "industry_le = preprocessing.LabelEncoder()\n",
    "industry_le = industry_le.fit(b['industry'])\n",
    "b['industry'] = industry_le.transform(b['industry'])"
   ]
  },
  {
   "cell_type": "code",
   "execution_count": 21,
   "metadata": {},
   "outputs": [],
   "source": [
    "occupation_le = preprocessing.LabelEncoder()\n",
    "occupation_le = occupation_le.fit(b['occupation'])\n",
    "b['occupation'] = occupation_le.transform(b['occupation'])"
   ]
  },
  {
   "cell_type": "code",
   "execution_count": 22,
   "metadata": {},
   "outputs": [],
   "source": [
    "compensation_le = preprocessing.LabelEncoder()\n",
    "compensation_le = compensation_le.fit(b['compensation'])\n",
    "b['compensation'] = compensation_le.transform(b['compensation'])"
   ]
  },
  {
   "cell_type": "markdown",
   "metadata": {},
   "source": [
    "#### Split into X, Y"
   ]
  },
  {
   "cell_type": "code",
   "execution_count": 23,
   "metadata": {},
   "outputs": [],
   "source": [
    "def subset_data(which='b', size=None):\n",
    "    dataset = b.copy()\n",
    "    if which != 'b':\n",
    "        dataset = a.copy()\n",
    "    if size is None:\n",
    "        return dataset.drop(columns=['compensation']), dataset[['compensation']]\n",
    "    else:\n",
    "        return dataset[:size].drop(columns=['compensation']), dataset[:size][['compensation']]"
   ]
  },
  {
   "cell_type": "code",
   "execution_count": 24,
   "metadata": {},
   "outputs": [],
   "source": [
    "def plot_learning_curve(estimator, title, X, y, cv, ylim=None, train_sizes=None):\n",
    "    plt.figure(figsize=[16,9])\n",
    "    plt.title(title)\n",
    "    if ylim is not None:\n",
    "        plt.ylim(*ylim)\n",
    "    plt.xlabel('Training Examples')\n",
    "    plt.ylabel('Score')\n",
    "        \n",
    "    train_sizes, train_scores, test_scores = learning_curve(\n",
    "        estimator, X, y, cv=cv, n_jobs=-1, train_sizes=train_sizes)\n",
    "        \n",
    "    train_scores_mean = np.mean(train_scores, axis=1)\n",
    "    train_scores_std = np.std(train_scores, axis=1)\n",
    "    test_scores_mean = np.mean(test_scores, axis=1)\n",
    "    test_scores_std = np.std(test_scores, axis=1)\n",
    "    plt.grid()\n",
    "\n",
    "    plt.fill_between(train_sizes, train_scores_mean - train_scores_std,\n",
    "                     train_scores_mean + train_scores_std, alpha=0.1,\n",
    "                     color=\"r\")\n",
    "    plt.fill_between(train_sizes, test_scores_mean - test_scores_std,\n",
    "                     test_scores_mean + test_scores_std, alpha=0.1, color=\"g\")\n",
    "    plt.plot(train_sizes, train_scores_mean, 'o-', color=\"r\",\n",
    "             label=\"Training score\")\n",
    "    plt.plot(train_sizes, test_scores_mean, 'o-', color=\"g\",\n",
    "             label=\"Cross-validation score\")\n",
    "\n",
    "    plt.legend(loc=\"best\")\n",
    "    return plt"
   ]
  },
  {
   "cell_type": "code",
   "execution_count": 43,
   "metadata": {},
   "outputs": [
    {
     "name": "stdout",
     "output_type": "stream",
     "text": [
      "(36826, 3) (9207, 3) (36826, 1) (9207, 1)\n",
      "0.788964917997176\n"
     ]
    },
    {
     "data": {
      "image/png": "[encoded data removed]",
      "text/plain": [
       "<Figure size 1152x648 with 1 Axes>"
      ]
     },
     "metadata": {
      "needs_background": "light"
     },
     "output_type": "display_data"
    },
    {
     "data": {
      "image/png": "[encoded data removed]",
      "text/plain": [
       "<Figure size 1152x864 with 1 Axes>"
      ]
     },
     "metadata": {
      "needs_background": "light"
     },
     "output_type": "display_data"
    }
   ],
   "source": [
    "estimator = tree.DecisionTreeClassifier(criterion='entropy',\n",
    "                                        max_depth=4)\n",
    "title = \"Learning Curve\"\n",
    "X, y = subset_data('a')\n",
    "\n",
    "cv = ShuffleSplit(n_splits=10, \n",
    "                  test_size=0.2, \n",
    "                  random_state=None)\n",
    "ylim=(0.7, 1.0)\n",
    "train_sizes = np.linspace(0.1, 1.0, 10)\n",
    "plot_learning_curve(estimator, title, X, y, cv=cv, ylim=ylim, train_sizes=train_sizes)\n",
    "\n",
    "X, y = subset_data('a')\n",
    "estimator = estimator.fit(X, y)\n",
    "\n",
    "fig = plt.figure(figsize=(16,12));\n",
    "ax = fig.add_subplot(1,1,1);\n",
    "\n",
    "tree.plot_tree(estimator, \n",
    "               ax=ax, \n",
    "               filled=True)\n",
    "fig.savefig('tree.pdf')\n",
    "\n",
    "x_train, x_test, y_train, y_test = train_test_split(X, y, \n",
    "                                                    random_state=1,\n",
    "                                                    test_size=.2)\n",
    "print(x_train.shape, x_test.shape, y_train.shape, y_test.shape)\n",
    "\n",
    "y_predict = estimator.predict(x_test)\n",
    "print(accuracy_score(y_test, y_predict))"
   ]
  },
  {
   "cell_type": "code",
   "execution_count": null,
   "metadata": {},
   "outputs": [],
   "source": []
  }
 ],
 "metadata": {
  "kernelspec": {
   "display_name": "Python 3",
   "language": "python",
   "name": "python3"
  },
  "language_info": {
   "codemirror_mode": {
    "name": "ipython",
    "version": 3
   },
   "file_extension": ".py",
   "mimetype": "text/x-python",
   "name": "python",
   "nbconvert_exporter": "python",
   "pygments_lexer": "ipython3",
   "version": "3.7.4"
  }
 },
 "nbformat": 4,
 "nbformat_minor": 2
}
